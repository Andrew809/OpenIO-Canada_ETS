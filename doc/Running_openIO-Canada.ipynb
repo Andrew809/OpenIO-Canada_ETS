{
 "cells": [
  {
   "cell_type": "code",
   "execution_count": 1,
   "metadata": {},
   "outputs": [],
   "source": [
    "import sys\n",
    "sys.path.append('C://Users/11max/PycharmProjects/OpenIOCanada/')\n",
    "import openIO\n",
    "import pandas as pd\n",
    "import numpy as np"
   ]
  },
  {
   "cell_type": "markdown",
   "metadata": {},
   "source": [
    "To get the data from openIO-Canada, you simply need to enter 3 arguments:\n",
    "- the path to the STATCAN economic data (Detailed level) for the year you chose (available here: https://www150.statcan.gc.ca/n1/en/catalogue/15-602-X). **Make sure to download the Excel versions for the code to work properly.**\n",
    "- the path to an IOT pxp folder of Exiobase. Exiobase data can be found here: https://doi.org/10.5281/zenodo.5589597\n",
    "- a boolean whether you wish to endogenize capitals or not. The default option is that they are endogenized. For more information on endogenization of capitals, read these articles: (https://doi.org/10.1021/acs.est.8b02791)\n",
    "(https://doi.org/10.1111/jiec.12931). **Note that endogenization introduces a lot of uncertainties, but that not endogenizing capitals will result in emission factors not including the impact of infrastructure and in an underestimation of total emissions at provincial or national level.**"
   ]
  },
  {
   "cell_type": "code",
   "execution_count": 2,
   "metadata": {},
   "outputs": [
    {
     "name": "stderr",
     "output_type": "stream",
     "text": [
      "2024-12-05 16:37:29,231 - openIO-Canada - INFO - Reading all the Excel files...\n",
      "2024-12-05 16:37:50,494 - openIO-Canada - INFO - Formatting the Supply and Use tables...\n",
      "2024-12-05 16:39:06,888 - openIO-Canada - INFO - Modifying names of duplicated sectors...\n",
      "2024-12-05 16:39:07,408 - openIO-Canada - INFO - Organizing final demand sectors...\n",
      "2024-12-05 16:39:08,674 - openIO-Canada - INFO - Removing IOIC codes from index...\n",
      "2024-12-05 16:39:08,838 - openIO-Canada - INFO - Endogenizing capitals of OpenIO-Canada...\n",
      "2024-12-05 16:40:21,114 - openIO-Canada - INFO - Balancing inter-provincial trade...\n",
      "2024-12-05 16:42:47,812 - openIO-Canada - INFO - Pre-treatment of international trade data...\n",
      "2024-12-05 16:43:07,940 - openIO-Canada - INFO - Linking international trade data to openIO-Canada...\n",
      "2024-12-05 16:44:54,917 - openIO-Canada - INFO - Building the symmetric tables...\n",
      "2024-12-05 16:46:00,836 - openIO-Canada - INFO - Linking openIO-Canada to Exiobase...\n",
      "2024-12-05 16:57:01,754 - openIO-Canada - INFO - Extracting and formatting environmental data from the NPRI file...\n",
      "2024-12-05 16:57:04,746 - openIO-Canada - INFO - Matching emission data from NPRI to IOT sectors...\n",
      "2024-12-05 16:57:06,404 - openIO-Canada - INFO - Matching GHG accounts to IOT sectors...\n",
      "2024-12-05 16:57:18,233 - openIO-Canada - INFO - Matching water accounts to IOT sectors...\n",
      "2024-12-05 16:57:27,954 - openIO-Canada - INFO - Matching energy accounts to IOT sectors...\n",
      "2024-12-05 16:57:34,298 - openIO-Canada - INFO - Matching mineral extraction data to IOT sectors...\n",
      "2024-12-05 16:57:34,584 - openIO-Canada - INFO - Creating the characterization matrix...\n",
      "2024-12-05 16:59:29,119 - openIO-Canada - INFO - Refining the GHG emissions for the agriculture sector...\n",
      "2024-12-05 16:59:30,237 - openIO-Canada - INFO - Cleaning province and country names...\n",
      "2024-12-05 16:59:30,303 - openIO-Canada - INFO - Refining the GHG emissions for the meat sector...\n",
      "2024-12-05 16:59:38,593 - openIO-Canada - INFO - Adding HFP and PFC flows...\n",
      "2024-12-05 17:00:40,100 - openIO-Canada - INFO - Refining water consumption of livestock and crops...\n",
      "2024-12-05 17:00:50,553 - openIO-Canada - INFO - Adding plastic waste flows...\n",
      "2024-12-05 17:15:52,652 - openIO-Canada - INFO - Normalizing emissions...\n",
      "2024-12-05 17:16:32,121 - openIO-Canada - INFO - Differentiating biogenic from fossil CO2 emissions...\n",
      "2024-12-05 17:16:37,929 - openIO-Canada - INFO - Done extracting openIO-Canada!\n"
     ]
    }
   ],
   "source": [
    "tables = openIO.IOTables(folder_path='C://Users/11max/Desktop/Work/Databases/IO_Canada/2021/Detail level/',\n",
    "                         exiobase_folder='C://Users/11max/Desktop/Work/Databases/EXIOBASE/monetary/exiobase3.8.2/IOT_2021_pxp/',\n",
    "                         endogenizing_capitals=True)"
   ]
  },
  {
   "cell_type": "markdown",
   "metadata": {},
   "source": [
    "Run the calc() function which will calculate the life cycle impacts of each sector."
   ]
  },
  {
   "cell_type": "code",
   "execution_count": 3,
   "metadata": {},
   "outputs": [],
   "source": [
    "tables.calc()"
   ]
  },
  {
   "cell_type": "markdown",
   "metadata": {},
   "source": [
    "OpenIO-Canada takes a while to run (~45 minutes) on a good machine. To avoid having to re-run the code everytime you want to use openIO-Canada, you can save the whole object in a pickle file."
   ]
  },
  {
   "cell_type": "code",
   "execution_count": 5,
   "metadata": {},
   "outputs": [],
   "source": [
    "import gzip\n",
    "import pickle\n",
    "\n",
    "with gzip.open('C://Users/11max/PycharmProjects/OpenIOCanada/v2.10/openIO_2021_endogenized.gz.pickle', 'wb') as file:\n",
    "    pickle.dump(tables, file)"
   ]
  }
 ],
 "metadata": {
  "kernelspec": {
   "display_name": "Python 3 (ipykernel)",
   "language": "python",
   "name": "python3"
  },
  "language_info": {
   "codemirror_mode": {
    "name": "ipython",
    "version": 3
   },
   "file_extension": ".py",
   "mimetype": "text/x-python",
   "name": "python",
   "nbconvert_exporter": "python",
   "pygments_lexer": "ipython3",
   "version": "3.9.19"
  }
 },
 "nbformat": 4,
 "nbformat_minor": 4
}
