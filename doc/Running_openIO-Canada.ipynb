{
 "cells": [
  {
   "cell_type": "code",
   "execution_count": 1,
   "metadata": {},
   "outputs": [],
   "source": [
    "import sys\n",
    "sys.path.append('C://Users/11max/PycharmProjects/OpenIOCanada/')\n",
    "import openIO\n",
    "import pandas as pd\n",
    "import numpy as np"
   ]
  },
  {
   "cell_type": "markdown",
   "metadata": {},
   "source": [
    "To get the data from openIO-Canada, you simply need to enter 3 arguments:\n",
    "- the path to the STATCAN economic data (Detailed level) for the year you chose (available here: https://www150.statcan.gc.ca/n1/en/catalogue/15-602-X). **Make sure to download the Excel versions for the code to work properly.**\n",
    "- the path to an IOT pxp folder of Exiobase. Exiobase data can be found here: https://doi.org/10.5281/zenodo.5589597\n",
    "- a boolean whether you wish to endogenize capitals or not. The default option is that they are endogenized. For more information on endogenization of capitals, read these articles: (https://doi.org/10.1021/acs.est.8b02791)\n",
    "(https://doi.org/10.1111/jiec.12931). **Note that endogenization introduces a lot of uncertainties, but that not endogenizing capitals will result in emission factors not including the impact of infrastructure and in an underestimation of total emissions at provincial or national level.**"
   ]
  },
  {
   "cell_type": "code",
   "execution_count": 2,
   "metadata": {},
   "outputs": [
    {
     "name": "stderr",
     "output_type": "stream",
     "text": [
      "2024-12-09 13:29:48,305 - openIO-Canada - INFO - Reading all the Excel files...\n",
      "2024-12-09 13:30:15,034 - openIO-Canada - INFO - Formatting the Supply and Use tables...\n",
      "2024-12-09 13:31:40,862 - openIO-Canada - INFO - Modifying names of duplicated sectors...\n",
      "2024-12-09 13:31:41,537 - openIO-Canada - INFO - Organizing final demand sectors...\n",
      "2024-12-09 13:31:43,172 - openIO-Canada - INFO - Removing IOIC codes from index...\n",
      "2024-12-09 13:31:43,342 - openIO-Canada - INFO - Balancing inter-provincial trade...\n",
      "2024-12-09 13:34:13,926 - openIO-Canada - INFO - Pre-treatment of international trade data...\n",
      "2024-12-09 13:34:50,061 - openIO-Canada - INFO - Linking international trade data to openIO-Canada...\n",
      "2024-12-09 13:36:44,831 - openIO-Canada - INFO - Building the symmetric tables...\n",
      "2024-12-09 13:37:28,891 - openIO-Canada - INFO - Linking openIO-Canada to Exiobase...\n",
      "2024-12-09 13:52:06,927 - openIO-Canada - INFO - Extracting and formatting environmental data from the NPRI file...\n",
      "2024-12-09 13:52:10,989 - openIO-Canada - INFO - Matching emission data from NPRI to IOT sectors...\n",
      "2024-12-09 13:52:12,887 - openIO-Canada - INFO - Matching GHG accounts to IOT sectors...\n",
      "2024-12-09 13:52:36,037 - openIO-Canada - INFO - Matching water accounts to IOT sectors...\n",
      "2024-12-09 13:52:50,787 - openIO-Canada - INFO - Matching energy accounts to IOT sectors...\n",
      "2024-12-09 13:53:00,657 - openIO-Canada - INFO - Matching mineral extraction data to IOT sectors...\n",
      "2024-12-09 13:53:01,120 - openIO-Canada - INFO - Creating the characterization matrix...\n",
      "2024-12-09 13:55:28,877 - openIO-Canada - INFO - Refining the GHG emissions for the agriculture sector...\n",
      "2024-12-09 13:55:30,518 - openIO-Canada - INFO - Cleaning province and country names...\n",
      "2024-12-09 13:55:30,706 - openIO-Canada - INFO - Refining the GHG emissions for the meat sector...\n",
      "2024-12-09 13:55:40,647 - openIO-Canada - INFO - Adding HFP and PFC flows...\n",
      "2024-12-09 13:56:49,986 - openIO-Canada - INFO - Refining water consumption of livestock and crops...\n",
      "2024-12-09 13:57:02,906 - openIO-Canada - INFO - Adding plastic waste flows...\n",
      "2024-12-09 14:13:09,592 - openIO-Canada - INFO - Normalizing emissions...\n",
      "2024-12-09 14:13:58,652 - openIO-Canada - INFO - Differentiating biogenic from fossil CO2 emissions...\n",
      "2024-12-09 14:14:06,062 - openIO-Canada - INFO - Done extracting openIO-Canada!\n"
     ]
    }
   ],
   "source": [
    "tables = openIO.IOTables(folder_path='C://Users/11max/Desktop/Work/Databases/IO_Canada/2021/Detail level/',\n",
    "                         exiobase_folder='C://Users/11max/Desktop/Work/Databases/EXIOBASE/monetary/exiobase3.8.2/IOT_2021_pxp/',\n",
    "                         endogenizing_capitals=False)"
   ]
  },
  {
   "cell_type": "markdown",
   "metadata": {},
   "source": [
    "Run the calc() function which will calculate the life cycle impacts of each sector."
   ]
  },
  {
   "cell_type": "code",
   "execution_count": 4,
   "metadata": {},
   "outputs": [],
   "source": [
    "tables.calc()"
   ]
  },
  {
   "cell_type": "markdown",
   "metadata": {},
   "source": [
    "OpenIO-Canada takes a while to run (~45 minutes) on a good machine. To avoid having to re-run the code everytime you want to use openIO-Canada, you can save the whole object in a pickle file."
   ]
  },
  {
   "cell_type": "code",
   "execution_count": 5,
   "metadata": {},
   "outputs": [],
   "source": [
    "import gzip\n",
    "import pickle\n",
    "\n",
    "with gzip.open('C://Users/11max/PycharmProjects/OpenIOCanada/v2.10/openIO_2021_not_endogenized.gz.pickle', 'wb') as file:\n",
    "    pickle.dump(tables, file)"
   ]
  },
  {
   "cell_type": "code",
   "execution_count": null,
   "metadata": {},
   "outputs": [],
   "source": []
  }
 ],
 "metadata": {
  "kernelspec": {
   "display_name": "Python 3 (ipykernel)",
   "language": "python",
   "name": "python3"
  },
  "language_info": {
   "codemirror_mode": {
    "name": "ipython",
    "version": 3
   },
   "file_extension": ".py",
   "mimetype": "text/x-python",
   "name": "python",
   "nbconvert_exporter": "python",
   "pygments_lexer": "ipython3",
   "version": "3.11.8"
  }
 },
 "nbformat": 4,
 "nbformat_minor": 4
}
