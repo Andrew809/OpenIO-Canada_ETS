{
 "cells": [
  {
   "cell_type": "code",
   "metadata": {
    "ExecuteTime": {
     "end_time": "2025-09-13T21:07:18.460454Z",
     "start_time": "2025-09-13T21:07:18.432966Z"
    }
   },
   "source": [
    "import sys\n",
    "sys.path.append(r'C:\\Calc\\OpenIO_Data')\n",
    "import openIO\n",
    "import pandas as pd\n",
    "import numpy as np"
   ],
   "outputs": [],
   "execution_count": 2
  },
  {
   "cell_type": "markdown",
   "metadata": {},
   "source": [
    "To get the data from openIO-Canada, you simply need to enter 3 arguments:\n",
    "- the path to the STATCAN economic data (Detailed level) for the year you chose (available here: https://www150.statcan.gc.ca/n1/en/catalogue/15-602-X). **Make sure to download the Excel versions for the code to work properly.**\n",
    "- the path to an IOT pxp folder of Exiobase. Exiobase data can be found here: https://doi.org/10.5281/zenodo.5589597\n",
    "- a boolean whether you wish to endogenize capitals or not. The default option is that they are endogenized. For more information on endogenization of capitals, read these articles: (https://doi.org/10.1021/acs.est.8b02791)\n",
    "(https://doi.org/10.1111/jiec.12931). **Note that endogenization introduces a lot of uncertainties, but that not endogenizing capitals will result in emission factors not including the impact of infrastructure and in an underestimation of total emissions at provincial or national level.**"
   ]
  },
  {
   "cell_type": "code",
   "metadata": {
    "ExecuteTime": {
     "end_time": "2025-09-13T21:27:58.236559Z",
     "start_time": "2025-09-13T21:07:31.615151Z"
    }
   },
   "source": [
    "tables = openIO.IOTables(folder_path=r'C:\\Calc\\OpenIO_Data\\StatCan\\2021\\Detail level',\n",
    "                         exiobase_folder='C:\\Calc\\OpenIO_Data\\Exiobase\\monetary\\exiobase_3.8.2\\IOT_2021_pxp',\n",
    "                         endogenizing_capitals=False)"
   ],
   "outputs": [
    {
     "name": "stderr",
     "output_type": "stream",
     "text": [
      "2025-09-13 17:07:31,615 - openIO-Canada - INFO - Reading all the Excel files...\n",
      "2025-09-13 17:07:44,420 - openIO-Canada - INFO - Formatting the Supply and Use tables...\n",
      "2025-09-13 17:08:29,750 - openIO-Canada - INFO - Modifying names of duplicated sectors...\n",
      "2025-09-13 17:08:29,964 - openIO-Canada - INFO - Organizing final demand sectors...\n",
      "2025-09-13 17:08:30,713 - openIO-Canada - INFO - Removing IOIC codes from index...\n",
      "2025-09-13 17:08:30,792 - openIO-Canada - INFO - Balancing inter-provincial trade...\n",
      "2025-09-13 17:09:31,241 - openIO-Canada - INFO - Pre-treatment of international trade data...\n",
      "2025-09-13 17:09:48,253 - openIO-Canada - INFO - Linking international trade data to openIO-Canada...\n",
      "2025-09-13 17:10:46,587 - openIO-Canada - INFO - Building the symmetric tables...\n",
      "2025-09-13 17:10:54,913 - openIO-Canada - INFO - Linking openIO-Canada to Exiobase...\n",
      "2025-09-13 17:17:45,247 - openIO-Canada - INFO - Extracting and formatting environmental data from the NPRI file...\n",
      "2025-09-13 17:17:46,938 - openIO-Canada - INFO - Matching emission data from NPRI to IOT sectors...\n",
      "2025-09-13 17:17:47,886 - openIO-Canada - INFO - Matching GHG accounts to IOT sectors...\n",
      "2025-09-13 17:17:56,653 - openIO-Canada - INFO - Matching water accounts to IOT sectors...\n",
      "2025-09-13 17:18:02,184 - openIO-Canada - INFO - Matching energy accounts to IOT sectors...\n",
      "2025-09-13 17:18:05,782 - openIO-Canada - INFO - Matching mineral extraction data to IOT sectors...\n",
      "2025-09-13 17:18:05,969 - openIO-Canada - INFO - Creating the characterization matrix...\n",
      "2025-09-13 17:19:20,190 - openIO-Canada - INFO - Refining the GHG emissions for the agriculture sector...\n",
      "2025-09-13 17:19:20,798 - openIO-Canada - INFO - Cleaning province and country names...\n",
      "2025-09-13 17:19:20,842 - openIO-Canada - INFO - Refining the GHG emissions for the meat sector...\n",
      "2025-09-13 17:19:23,880 - openIO-Canada - INFO - Adding HFP and PFC flows...\n",
      "2025-09-13 17:20:01,495 - openIO-Canada - INFO - Refining water consumption of livestock and crops...\n",
      "2025-09-13 17:20:07,490 - openIO-Canada - INFO - Adding plastic waste flows...\n",
      "2025-09-13 17:27:33,159 - openIO-Canada - INFO - Normalizing emissions...\n",
      "2025-09-13 17:27:54,951 - openIO-Canada - INFO - Differentiating biogenic from fossil CO2 emissions...\n",
      "2025-09-13 17:27:58,228 - openIO-Canada - INFO - Done extracting openIO-Canada!\n"
     ]
    }
   ],
   "execution_count": 3
  },
  {
   "cell_type": "markdown",
   "metadata": {},
   "source": [
    "Run the calc() function which will calculate the life cycle impacts of each sector."
   ]
  },
  {
   "cell_type": "code",
   "execution_count": 4,
   "metadata": {},
   "outputs": [],
   "source": [
    "tables.calc()"
   ]
  },
  {
   "cell_type": "markdown",
   "metadata": {},
   "source": [
    "OpenIO-Canada takes a while to run (~45 minutes) on a good machine. To avoid having to re-run the code everytime you want to use openIO-Canada, you can save the whole object in a pickle file."
   ]
  },
  {
   "cell_type": "code",
   "execution_count": 5,
   "metadata": {},
   "outputs": [],
   "source": [
    "import gzip\n",
    "import pickle\n",
    "\n",
    "with gzip.open('C://Users/11max/PycharmProjects/OpenIOCanada/v2.10/openIO_2021_not_endogenized.gz.pickle', 'wb') as file:\n",
    "    pickle.dump(tables, file)"
   ]
  },
  {
   "cell_type": "code",
   "execution_count": null,
   "metadata": {},
   "outputs": [],
   "source": []
  }
 ],
 "metadata": {
  "kernelspec": {
   "display_name": "Python 3 (ipykernel)",
   "language": "python",
   "name": "python3"
  },
  "language_info": {
   "codemirror_mode": {
    "name": "ipython",
    "version": 3
   },
   "file_extension": ".py",
   "mimetype": "text/x-python",
   "name": "python",
   "nbconvert_exporter": "python",
   "pygments_lexer": "ipython3",
   "version": "3.11.8"
  }
 },
 "nbformat": 4,
 "nbformat_minor": 4
}
