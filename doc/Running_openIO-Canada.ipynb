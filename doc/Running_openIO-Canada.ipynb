{
 "cells": [
  {
   "cell_type": "code",
   "metadata": {
    "ExecuteTime": {
     "end_time": "2025-09-14T23:11:18.448259Z",
     "start_time": "2025-09-14T23:11:12.465101Z"
    }
   },
   "source": [
    "import sys\n",
    "sys.path.append(r'C:\\Calc\\OpenIO_Data')\n",
    "import openIO\n",
    "import pandas as pd\n",
    "import numpy as np"
   ],
   "outputs": [
    {
     "name": "stderr",
     "output_type": "stream",
     "text": [
      "C:\\Calc\\OpenIO-Canada_ETS\\openIO.py:13: UserWarning: pkg_resources is deprecated as an API. See https://setuptools.pypa.io/en/latest/pkg_resources.html. The pkg_resources package is slated for removal as early as 2025-11-30. Refrain from using this package or pin to Setuptools<81.\n",
      "  import pkg_resources\n"
     ]
    }
   ],
   "execution_count": 1
  },
  {
   "cell_type": "markdown",
   "metadata": {},
   "source": [
    "To get the data from openIO-Canada, you simply need to enter 3 arguments:\n",
    "- the path to the STATCAN economic data (Detailed level) for the year you chose (available here: https://www150.statcan.gc.ca/n1/en/catalogue/15-602-X). **Make sure to download the Excel versions for the code to work properly.**\n",
    "- the path to an IOT pxp folder of Exiobase. Exiobase data can be found here: https://doi.org/10.5281/zenodo.5589597\n",
    "- a boolean whether you wish to endogenize capitals or not. The default option is that they are endogenized. For more information on endogenization of capitals, read these articles: (https://doi.org/10.1021/acs.est.8b02791)\n",
    "(https://doi.org/10.1111/jiec.12931). **Note that endogenization introduces a lot of uncertainties, but that not endogenizing capitals will result in emission factors not including the impact of infrastructure and in an underestimation of total emissions at provincial or national level.**"
   ]
  },
  {
   "metadata": {},
   "cell_type": "markdown",
   "source": [
    "OpenIO-Canada takes a while to run (~45 minutes) on a good machine.\n",
    "\n",
    "The command `tables = openIO.IOTables ... ` takes 20-50 minutes to run."
   ]
  },
  {
   "cell_type": "code",
   "metadata": {
    "ExecuteTime": {
     "end_time": "2025-09-15T00:03:43.300026Z",
     "start_time": "2025-09-14T23:11:27.329249Z"
    }
   },
   "source": [
    "tables = openIO.IOTables(folder_path=r'C:\\Calc\\OpenIO_Data\\StatCan\\2021\\Detail level',\n",
    "                         exiobase_folder='C:\\Calc\\OpenIO_Data\\Exiobase\\monetary\\exiobase_3.8.2\\IOT_2021_pxp',\n",
    "                         endogenizing_capitals=False)"
   ],
   "outputs": [
    {
     "name": "stderr",
     "output_type": "stream",
     "text": [
      "2025-09-14 19:11:27,333 - openIO-Canada - INFO - Reading all the Excel files...\n",
      "2025-09-14 19:12:01,039 - openIO-Canada - INFO - Formatting the Supply and Use tables...\n",
      "2025-09-14 19:13:58,196 - openIO-Canada - INFO - Modifying names of duplicated sectors...\n",
      "2025-09-14 19:13:59,001 - openIO-Canada - INFO - Organizing final demand sectors...\n",
      "2025-09-14 19:14:00,999 - openIO-Canada - INFO - Removing IOIC codes from index...\n",
      "2025-09-14 19:14:01,246 - openIO-Canada - INFO - Balancing inter-provincial trade...\n",
      "2025-09-14 19:16:52,646 - openIO-Canada - INFO - Pre-treatment of international trade data...\n",
      "2025-09-14 19:17:48,315 - openIO-Canada - INFO - Linking international trade data to openIO-Canada...\n",
      "2025-09-14 19:19:56,162 - openIO-Canada - INFO - Building the symmetric tables...\n",
      "2025-09-14 19:21:04,212 - openIO-Canada - INFO - Linking openIO-Canada to Exiobase...\n",
      "2025-09-14 19:36:37,222 - openIO-Canada - INFO - Extracting and formatting environmental data from the NPRI file...\n",
      "2025-09-14 19:36:41,438 - openIO-Canada - INFO - Matching emission data from NPRI to IOT sectors...\n",
      "2025-09-14 19:36:43,496 - openIO-Canada - INFO - Matching GHG accounts to IOT sectors...\n",
      "2025-09-14 19:37:06,152 - openIO-Canada - INFO - Matching water accounts to IOT sectors...\n",
      "2025-09-14 19:37:22,125 - openIO-Canada - INFO - Matching energy accounts to IOT sectors...\n",
      "2025-09-14 19:37:32,655 - openIO-Canada - INFO - Matching mineral extraction data to IOT sectors...\n",
      "2025-09-14 19:37:33,200 - openIO-Canada - INFO - Creating the characterization matrix...\n",
      "2025-09-14 19:41:30,735 - openIO-Canada - INFO - Refining the GHG emissions for the agriculture sector...\n",
      "2025-09-14 19:41:33,231 - openIO-Canada - INFO - Cleaning province and country names...\n",
      "2025-09-14 19:41:33,465 - openIO-Canada - INFO - Refining the GHG emissions for the meat sector...\n",
      "2025-09-14 19:41:45,515 - openIO-Canada - INFO - Adding HFP and PFC flows...\n",
      "2025-09-14 19:43:22,002 - openIO-Canada - INFO - Refining water consumption of livestock and crops...\n",
      "2025-09-14 19:43:37,255 - openIO-Canada - INFO - Adding plastic waste flows...\n",
      "2025-09-14 20:02:35,351 - openIO-Canada - INFO - Normalizing emissions...\n",
      "2025-09-14 20:03:35,514 - openIO-Canada - INFO - Differentiating biogenic from fossil CO2 emissions...\n",
      "2025-09-14 20:03:43,284 - openIO-Canada - INFO - Done extracting openIO-Canada!\n"
     ]
    }
   ],
   "execution_count": 2
  },
  {
   "cell_type": "markdown",
   "metadata": {},
   "source": [
    "Run the calc() function which will calculate the life cycle impacts of each sector.\n",
    "The command `table.calc()` takes < 5 minutes."
   ]
  },
  {
   "cell_type": "code",
   "metadata": {
    "ExecuteTime": {
     "end_time": "2025-09-15T00:48:11.699441Z",
     "start_time": "2025-09-15T00:42:40.177137Z"
    }
   },
   "source": [
    "tables.calc()"
   ],
   "outputs": [],
   "execution_count": 3
  },
  {
   "cell_type": "markdown",
   "metadata": {},
   "source": "To avoid having to re-run the code everytime you want to use openIO-Canada, you can save the whole object in a pickle file.  Saving can take ~ 12 minutes, and creates a 2GB file."
  },
  {
   "cell_type": "code",
   "metadata": {
    "ExecuteTime": {
     "end_time": "2025-09-15T01:04:15.003029Z",
     "start_time": "2025-09-15T00:52:50.779617Z"
    }
   },
   "source": [
    "import gzip\n",
    "import pickle\n",
    "\n",
    "with gzip.open(r'C:\\Calc\\OpenIO_Data\\Output\\openIO_2021_endogenize_False.gz.pickle', 'wb') as file:\n",
    "    pickle.dump(tables, file)"
   ],
   "outputs": [],
   "execution_count": 5
  },
  {
   "metadata": {},
   "cell_type": "markdown",
   "source": [
    "Next cell: testing to save specific dataframes to excel for easier interrogation....\n",
    "\n",
    "Note that this will not work for the large (16k x 16k matrices).  Too slow, and the file is too large to be useable.  Even saving a single matrix to excel can take 10 minutes.\n",
    "\n",
    "ChatGPT suggests Parquet format.\n",
    "\n",
    "Very compact, fast to read/write.\n",
    "\n",
    "Readable in:\n",
    "- Python (pandas, polars)\n",
    "- R (arrow, data.table)\n",
    "- Power BI / Tableau\n",
    "- Excel (via Power Query → “Get Data” → “From Parquet”)"
   ]
  },
  {
   "metadata": {
    "ExecuteTime": {
     "end_time": "2025-09-15T01:30:35.392697Z",
     "start_time": "2025-09-15T01:30:30.662725Z"
    }
   },
   "cell_type": "code",
   "source": [
    "import os\n",
    "import pandas as pd\n",
    "\n",
    "# Example: your container variable\n",
    "container = tables  # replace with your actual variable name\n",
    "\n",
    "# Base directory you supply\n",
    "base_dir = r'C:\\Calc\\OpenIO_Data\\Output'\n",
    "\n",
    "# Create a folder with the variable's name inside base_dir\n",
    "folder_name = os.path.join(base_dir, \"tables\")   # \"tables\" is the variable name\n",
    "os.makedirs(folder_name, exist_ok=True)\n",
    "\n",
    "# Optional whitelist of DataFrame names to save\n",
    "# Example: whitelist = ['A_exio', 'C',  'C_exio']\n",
    "whitelist = ['C_exio']   # set to [] or None to save all\n",
    "\n",
    "# Loop through attributes in the container\n",
    "for attr_name in dir(container):\n",
    "    if attr_name.startswith(\"_\"):\n",
    "        continue\n",
    "\n",
    "    # If whitelist is provided, skip others\n",
    "    if whitelist and attr_name not in whitelist:\n",
    "        continue\n",
    "\n",
    "    obj = getattr(container, attr_name)\n",
    "\n",
    "    if isinstance(obj, pd.DataFrame):\n",
    "        file_name = f\"{attr_name}.xlsx\"\n",
    "        file_path = os.path.join(folder_name, file_name)\n",
    "\n",
    "        # Status update\n",
    "        print(f\"Now saving dataframe {attr_name} as {file_name}...\")\n",
    "\n",
    "        # Save to Excel (includes index + column names)\n",
    "        # Note there is no check for dataframe size; excel max sizes are 1.04e6 rows and 16,384 columns.  CanadaIO sizes top out at 16,196.\n",
    "        obj.to_excel(file_path)\n",
    "\n",
    "        print(f\"\\tFinished saving {attr_name}\")\n"
   ],
   "outputs": [
    {
     "name": "stdout",
     "output_type": "stream",
     "text": [
      "Now saving dataframe C_exio as C_exio.xlsx...\n",
      "\tFinished saving C_exio\n"
     ]
    }
   ],
   "execution_count": 8
  }
 ],
 "metadata": {
  "kernelspec": {
   "display_name": "Python 3 (ipykernel)",
   "language": "python",
   "name": "python3"
  },
  "language_info": {
   "codemirror_mode": {
    "name": "ipython",
    "version": 3
   },
   "file_extension": ".py",
   "mimetype": "text/x-python",
   "name": "python",
   "nbconvert_exporter": "python",
   "pygments_lexer": "ipython3",
   "version": "3.11.8"
  }
 },
 "nbformat": 4,
 "nbformat_minor": 4
}
